{
 "cells": [
  {
   "cell_type": "code",
   "execution_count": 48,
   "metadata": {
    "collapsed": true
   },
   "outputs": [],
   "source": [
    "import re"
   ]
  },
  {
   "cell_type": "code",
   "execution_count": 49,
   "metadata": {
    "collapsed": true
   },
   "outputs": [],
   "source": [
    "vi_sent = '<ORGANIZATION_1>Dịch vụ Thời tiết Quốc gia</ORGANIZATION_1> nói với chúng tôi chiều nay nó là El Nino gây ra những con sóng khổng lồ trên bờ biển <LOCATION_2>California</LOCATION_2> , và mặc dù có đê cát , một số căn nhà phía trước đại dương đã bị lũ lụt nhỏ .'\n",
    "en_sent = 'The <ORGANIZATION_1>National Weather Service</ORGANIZATION_1> told us this afternoon it is El Nino causing these huge waves on the <LOCATION_2>California</LOCATION_2> coast , and despite the sand berms , some ocean front homes suffered minor flooding .'\n",
    "ent_pattern = re.compile(r\"(<[A-Z]+\\_\\d+>)([^</>]*)(</[A-Z]+\\_\\d+>)\")\n",
    "ent_type_pattern = re.compile(r\"(<([A-Z]+)\\_\\d+>)\")"
   ]
  },
  {
   "cell_type": "code",
   "execution_count": 53,
   "metadata": {
    "collapsed": true
   },
   "outputs": [],
   "source": [
    "def getSentTrueSet(en_sent,vn_sent):\n",
    "    res = []\n",
    "    en_list = re.finditer(ent_pattern,en_sent)\n",
    "    vn_list = re.finditer(ent_pattern,vn_sent)\n",
    "    en_type_set = set([en.group(1) for en in en_list])\n",
    "    vi_type_set = set([vi.group(1) for vi in vn_list])\n",
    "    intersect_type_set = en_type_set.intersection(vi_type_set)\n",
    "    for ent_type in list(intersect_type_set):\n",
    "        en_entity = None\n",
    "        vn_entity = None\n",
    "        for en in en_list:\n",
    "            if (ent_type == en.group(1)):\n",
    "                en_entity = en\n",
    "                break\n",
    "        for vn in vn_list:\n",
    "            if (ent_type == vn.group(1)):\n",
    "                vn_entity = vn\n",
    "                break\n",
    "        en_index = get_index(en_entity,en_sent)\n",
    "        vn_index = get_index(vn_entity,vn_sent)\n",
    "        cur_type = clearEntityType(ent_type)\n",
    "        en_word = en_entity.group(2)\n",
    "        vn_word = vn_entity.group(2)\n",
    "        cur_NE_Pair = (en_index,vn_index,cur_type,en_word,vn_word)\n",
    "        res.append(cur_NE_Pair)\n",
    "        \n",
    "    return res\n"
   ]
  },
  {
   "cell_type": "code",
   "execution_count": 54,
   "metadata": {
    "collapsed": true
   },
   "outputs": [],
   "source": [
    "\n"
   ]
  },
  {
   "cell_type": "code",
   "execution_count": 55,
   "metadata": {},
   "outputs": [
    {
     "ename": "AttributeError",
     "evalue": "'NoneType' object has no attribute 'group'",
     "output_type": "error",
     "traceback": [
      "\u001b[0;31m---------------------------------------------------------------------------\u001b[0m",
      "\u001b[0;31mAttributeError\u001b[0m                            Traceback (most recent call last)",
      "\u001b[0;32m<ipython-input-55-a6516bd678c6>\u001b[0m in \u001b[0;36m<module>\u001b[0;34m()\u001b[0m\n\u001b[0;32m----> 1\u001b[0;31m \u001b[0mtmp\u001b[0m \u001b[0;34m=\u001b[0m \u001b[0mgetSentTrueSet\u001b[0m\u001b[0;34m(\u001b[0m\u001b[0men_sent\u001b[0m\u001b[0;34m,\u001b[0m\u001b[0mvi_sent\u001b[0m\u001b[0;34m)\u001b[0m\u001b[0;34m\u001b[0m\u001b[0m\n\u001b[0m",
      "\u001b[0;32m<ipython-input-53-d04042f9c5da>\u001b[0m in \u001b[0;36mgetSentTrueSet\u001b[0;34m(en_sent, vn_sent)\u001b[0m\n\u001b[1;32m     17\u001b[0m                 \u001b[0mvn_entity\u001b[0m \u001b[0;34m=\u001b[0m \u001b[0mvn\u001b[0m\u001b[0;34m\u001b[0m\u001b[0m\n\u001b[1;32m     18\u001b[0m                 \u001b[0;32mbreak\u001b[0m\u001b[0;34m\u001b[0m\u001b[0m\n\u001b[0;32m---> 19\u001b[0;31m         \u001b[0men_index\u001b[0m \u001b[0;34m=\u001b[0m \u001b[0mget_index\u001b[0m\u001b[0;34m(\u001b[0m\u001b[0men_entity\u001b[0m\u001b[0;34m,\u001b[0m\u001b[0men_sent\u001b[0m\u001b[0;34m)\u001b[0m\u001b[0;34m\u001b[0m\u001b[0m\n\u001b[0m\u001b[1;32m     20\u001b[0m         \u001b[0mvn_index\u001b[0m \u001b[0;34m=\u001b[0m \u001b[0mget_index\u001b[0m\u001b[0;34m(\u001b[0m\u001b[0mvn_entity\u001b[0m\u001b[0;34m,\u001b[0m\u001b[0mvn_sent\u001b[0m\u001b[0;34m)\u001b[0m\u001b[0;34m\u001b[0m\u001b[0m\n\u001b[1;32m     21\u001b[0m         \u001b[0mcur_type\u001b[0m \u001b[0;34m=\u001b[0m \u001b[0mclearEntityType\u001b[0m\u001b[0;34m(\u001b[0m\u001b[0ment_type\u001b[0m\u001b[0;34m)\u001b[0m\u001b[0;34m\u001b[0m\u001b[0m\n",
      "\u001b[0;32m<ipython-input-7-59bbb3fefcfc>\u001b[0m in \u001b[0;36mget_index\u001b[0;34m(ent, sent)\u001b[0m\n\u001b[1;32m      1\u001b[0m \u001b[0;32mdef\u001b[0m \u001b[0mget_index\u001b[0m\u001b[0;34m(\u001b[0m\u001b[0ment\u001b[0m\u001b[0;34m,\u001b[0m\u001b[0msent\u001b[0m\u001b[0;34m)\u001b[0m\u001b[0;34m:\u001b[0m\u001b[0;34m\u001b[0m\u001b[0m\n\u001b[1;32m      2\u001b[0m     \u001b[0mword_list\u001b[0m \u001b[0;34m=\u001b[0m \u001b[0msent\u001b[0m\u001b[0;34m.\u001b[0m\u001b[0msplit\u001b[0m\u001b[0;34m(\u001b[0m\u001b[0;34m)\u001b[0m\u001b[0;34m\u001b[0m\u001b[0m\n\u001b[0;32m----> 3\u001b[0;31m     \u001b[0mcur_ent_word\u001b[0m \u001b[0;34m=\u001b[0m \u001b[0ment\u001b[0m\u001b[0;34m.\u001b[0m\u001b[0mgroup\u001b[0m\u001b[0;34m(\u001b[0m\u001b[0;36m0\u001b[0m\u001b[0;34m)\u001b[0m\u001b[0;34m\u001b[0m\u001b[0m\n\u001b[0m\u001b[1;32m      4\u001b[0m     \u001b[0;32mfor\u001b[0m \u001b[0mi\u001b[0m \u001b[0;32min\u001b[0m \u001b[0mrange\u001b[0m\u001b[0;34m(\u001b[0m\u001b[0mlen\u001b[0m\u001b[0;34m(\u001b[0m\u001b[0mword_list\u001b[0m\u001b[0;34m)\u001b[0m\u001b[0;34m)\u001b[0m\u001b[0;34m:\u001b[0m\u001b[0;34m\u001b[0m\u001b[0m\n\u001b[1;32m      5\u001b[0m         \u001b[0;32mif\u001b[0m \u001b[0mword_list\u001b[0m\u001b[0;34m[\u001b[0m\u001b[0mi\u001b[0m\u001b[0;34m]\u001b[0m \u001b[0;34m==\u001b[0m \u001b[0ment\u001b[0m\u001b[0;34m.\u001b[0m\u001b[0mgroup\u001b[0m\u001b[0;34m(\u001b[0m\u001b[0;36m1\u001b[0m\u001b[0;34m)\u001b[0m\u001b[0;34m:\u001b[0m\u001b[0;34m\u001b[0m\u001b[0m\n",
      "\u001b[0;31mAttributeError\u001b[0m: 'NoneType' object has no attribute 'group'"
     ]
    }
   ],
   "source": [
    "tmp = getSentTrueSet(en_sent,vi_sent)\n"
   ]
  },
  {
   "cell_type": "code",
   "execution_count": null,
   "metadata": {
    "collapsed": true
   },
   "outputs": [],
   "source": [
    "def get_index(ent,sent):\n",
    "    word_list = sent.split()\n",
    "    cur_ent_word = ent.group(0)\n",
    "    for i in range(len(word_list)):\n",
    "        if word_list[i] == ent.group(1):\n",
    "            index = range(i,i+len(cur_ent_word.split()))\n",
    "            break\n",
    "    return index\n"
   ]
  },
  {
   "cell_type": "code",
   "execution_count": null,
   "metadata": {},
   "outputs": [],
   "source": [
    "en_sent"
   ]
  },
  {
   "cell_type": "code",
   "execution_count": null,
   "metadata": {
    "collapsed": true
   },
   "outputs": [],
   "source": [
    "tmp = re.finditer(ent_pattern,en_sent)"
   ]
  },
  {
   "cell_type": "code",
   "execution_count": null,
   "metadata": {},
   "outputs": [],
   "source": [
    "type(tmp)"
   ]
  },
  {
   "cell_type": "code",
   "execution_count": null,
   "metadata": {},
   "outputs": [],
   "source": [
    "for t in tmp:\n",
    "    print(t.group(1))"
   ]
  },
  {
   "cell_type": "code",
   "execution_count": null,
   "metadata": {
    "collapsed": true
   },
   "outputs": [],
   "source": []
  },
  {
   "cell_type": "code",
   "execution_count": null,
   "metadata": {
    "collapsed": true
   },
   "outputs": [],
   "source": []
  }
 ],
 "metadata": {
  "kernelspec": {
   "display_name": "Python 3",
   "language": "python",
   "name": "python3"
  },
  "language_info": {
   "codemirror_mode": {
    "name": "ipython",
    "version": 3
   },
   "file_extension": ".py",
   "mimetype": "text/x-python",
   "name": "python",
   "nbconvert_exporter": "python",
   "pygments_lexer": "ipython3",
   "version": "3.6.3"
  }
 },
 "nbformat": 4,
 "nbformat_minor": 2
}
